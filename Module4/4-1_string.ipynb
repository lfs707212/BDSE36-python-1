{
 "cells": [
  {
   "cell_type": "markdown",
   "metadata": {},
   "source": [
    "|string方法| 功能 |\n",
    "|:---:|:---:|\n",
    "| | 替換字串 |\n",
    "| | 去除兩側空格 |\n",
    "| | 字串小寫變大寫 |\n",
    "| | 字串大寫變小寫 |"
   ]
  },
  {
   "cell_type": "code",
   "execution_count": null,
   "metadata": {},
   "outputs": [
    {
     "name": "stdout",
     "output_type": "stream",
     "text": [
      "Good Morning\n",
      "2075610564400\n",
      "2075610644400\n"
     ]
    }
   ],
   "source": [
    "# 字串變數初始化\n",
    "\n",
    "message = \"Good Morning\"\n",
    "print(message)\n",
    "print(id(message))\n",
    "message = \"Good Night\"\n",
    "print(id(message))"
   ]
  },
  {
   "cell_type": "code",
   "execution_count": null,
   "metadata": {},
   "outputs": [
    {
     "name": "stdout",
     "output_type": "stream",
     "text": [
      "Good Morning\n",
      "Good Night\n"
     ]
    }
   ],
   "source": [
    "# 替換字串\n",
    "'''\n",
    "string.replace(<str1>,<str2>)\n",
    "將 string 中的 str1 替換成 str2\n",
    "\n",
    "只有string有\n",
    "'''\n",
    "message = \"Good Morning\"\n",
    "new_message = message.replace(\"Morning\", \"Night\")\n",
    "\n",
    "print(message)\n",
    "print(new_message)\n"
   ]
  },
  {
   "cell_type": "code",
   "execution_count": 4,
   "metadata": {},
   "outputs": [
    {
     "name": "stdout",
     "output_type": "stream",
     "text": [
      "___CCC___\n",
      "Hello\n"
     ]
    }
   ],
   "source": [
    "# 去除兩側空格\n",
    "'''\n",
    "\n",
    "去除字串 string 左、右兩邊的空格\n",
    "'''\n",
    "string01 = \" ___CCC___   \"\n",
    "new_string01 = string01.strip()\n",
    "\n",
    "print(new_string01)\n",
    "message = \"Hello!!!\"\n",
    "new_message = message.strip(\"!\")\n",
    "print(new_message)\n"
   ]
  },
  {
   "cell_type": "code",
   "execution_count": 5,
   "metadata": {},
   "outputs": [
    {
     "name": "stdout",
     "output_type": "stream",
     "text": [
      "car\n",
      "GOOD\n"
     ]
    }
   ],
   "source": [
    "# 字串小寫變大寫\n",
    "'''\n",
    "\n",
    "將字串 string 裡的字母全部改成小寫\n",
    "'''\n",
    "print(\"CAR\".lower())\n",
    "\n",
    "\n",
    "\n",
    "'''\n",
    "\n",
    "將字串 string 裡的字母全部改成大寫\n",
    "'''\n",
    "msg = \"good\"\n",
    "print(msg.upper())"
   ]
  },
  {
   "cell_type": "code",
   "execution_count": null,
   "metadata": {},
   "outputs": [],
   "source": [
    "# 字串分割成 list\n",
    "greeting = \"hello world! hello John\"\n",
    "str_list = greeting.split(' ')\n",
    "str_list2 = greeting.split(' ')"
   ]
  }
 ],
 "metadata": {
  "kernelspec": {
   "display_name": "Python 3",
   "language": "python",
   "name": "python3"
  },
  "language_info": {
   "codemirror_mode": {
    "name": "ipython",
    "version": 3
   },
   "file_extension": ".py",
   "mimetype": "text/x-python",
   "name": "python",
   "nbconvert_exporter": "python",
   "pygments_lexer": "ipython3",
   "version": "3.13.0"
  }
 },
 "nbformat": 4,
 "nbformat_minor": 2
}
